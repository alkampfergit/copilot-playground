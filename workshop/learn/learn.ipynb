{
 "cells": [
  {
   "cell_type": "code",
   "execution_count": null,
   "id": "ab3435d7",
   "metadata": {},
   "outputs": [],
   "source": [
    "matrix = [[\"apple\", \"banana\", \"cherry\"],\n",
    "\t\t[\"date\", \"fig\", \"grape\"],\n",
    "\t\t[\"kiwi\", \"lemon\", \"mango\"]]\n",
    "\n",
    "modified_matrix = [[fruit.capitalize() for fruit in row] for row in matrix]\n",
    "\n",
    "print(modified_matrix)\n"
   ]
  }
 ],
 "metadata": {
  "kernelspec": {
   "display_name": "Python 3",
   "language": "python",
   "name": "python3"
  },
  "language_info": {
   "name": "python",
   "version": "3.12.10"
  }
 },
 "nbformat": 4,
 "nbformat_minor": 5
}
